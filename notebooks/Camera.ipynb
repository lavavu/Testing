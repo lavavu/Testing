{
 "cells": [
  {
   "cell_type": "code",
   "execution_count": null,
   "metadata": {
    "collapsed": false,
    "deletable": true,
    "editable": true
   },
   "outputs": [],
   "source": [
    "import lavavu\n",
    "lv = lavavu.Viewer(background=\"white\")"
   ]
  },
  {
   "cell_type": "code",
   "execution_count": null,
   "metadata": {
    "collapsed": false,
    "deletable": true,
    "editable": true
   },
   "outputs": [],
   "source": [
    "#Create regular grid with numpy\n",
    "import numpy\n",
    "def makegrid(width=5, height=5, offset=[0,0,0], scale=[1,1,1], axis=2):\n",
    "    if axis == 0:\n",
    "        axis1 = 1\n",
    "        axis2 = 2\n",
    "    elif axis == 1:\n",
    "        axis1 = 0\n",
    "        axis2 = 2\n",
    "    else:\n",
    "        axis1 = 0\n",
    "        axis2 = 1\n",
    "    width+=1 #Cells in x + 1 = vertices in x\n",
    "    height+=1 #Cells in y + 1 = vertices in y\n",
    "    #Calculate the x and y coord ranges\n",
    "    x = numpy.arange(0, width) * scale[axis1] + offset[axis1]\n",
    "    y = numpy.arange(0, height) * scale[axis2] + offset[axis2]\n",
    "    #Place them in a 2d grid\n",
    "    xx,yy = numpy.meshgrid(x, y)\n",
    "    #Create a 3d vertex array of the required grid resolution\n",
    "    verts = numpy.zeros(shape=(width*height,3), dtype='float32')\n",
    "    #Copy 2d grid to 3d vertex x,y columns\n",
    "    z = numpy.arange(0, width*height) * scale[axis]\n",
    "    z.fill(offset[axis])\n",
    "    verts[:, axis] = z\n",
    "    verts[:, axis1] = xx.ravel()\n",
    "    verts[:, axis2] = yy.ravel()\n",
    "    return verts"
   ]
  },
  {
   "cell_type": "code",
   "execution_count": null,
   "metadata": {
    "collapsed": false,
    "deletable": true,
    "editable": true
   },
   "outputs": [],
   "source": [
    "#The quads() method plots a set of 3d vertices as a connected grid of quadrilaterals\n",
    "#(must provide dims[0]*dims[1] 3d vertices)\n",
    "x0 = lv.quads(\"x0\", vertices=makegrid(), dims=[6,6], colour=\"red\")\n",
    "x1 = lv.quads(\"x1\", vertices=makegrid(offset=[0,0,5]), dims=[6,6], colour=\"orange\")\n",
    "y0 = lv.quads(\"y0\", vertices=makegrid(offset=[0,0,0], axis=0), dims=[6,6], colour=\"darkgreen\")\n",
    "y1 = lv.quads(\"y1\", vertices=makegrid(offset=[5,0,0], axis=0), dims=[6,6], colour=\"chartreuse\")\n",
    "z0 = lv.quads(\"z0\", vertices=makegrid(offset=[0,0,0], axis=1), dims=[6,6], colour=\"blue\")\n",
    "z1 = lv.quads(\"z1\", vertices=makegrid(offset=[0,5,0], axis=1), dims=[6,6], colour=\"cyan\")"
   ]
  },
  {
   "cell_type": "code",
   "execution_count": null,
   "metadata": {
    "collapsed": false,
    "deletable": true,
    "editable": true,
    "scrolled": false
   },
   "outputs": [],
   "source": [
    "lv[\"axislength\"] = 0.35\n",
    "def camset(axis, angle):\n",
    "    lv.reset()\n",
    "    lv.rotate(axis, angle)\n",
    "\n",
    "def camcheck():\n",
    "    cam = lv.camera()\n",
    "    lv.reset()\n",
    "    lv.rotation(*cam['xyzrotate'])\n",
    "    lv.translation(*cam['translate'])\n",
    "    lv.display(resolution=[300,200])\n",
    "\n",
    "camset('x', 90)\n",
    "camcheck()\n",
    "camset('x', -90)\n",
    "camcheck()\n",
    "camset('y', 90)\n",
    "camcheck()\n",
    "camset('y', -90)\n",
    "camcheck()\n",
    "camset('z', 90)\n",
    "camcheck()\n",
    "camset('z', -90)\n",
    "camcheck()\n",
    "\n",
    "lv.rotation(180, 0, -90)\n",
    "lv.display(resolution=[300,200])\n",
    "camcheck()\n",
    "\n",
    "#Random values with fixed seed\n",
    "import random\n",
    "random.seed(64)\n",
    "for c in range(10):\n",
    "    lv.rotation(random.random()*360, random.random()*360, random.random()*360)\n",
    "    lv.display(resolution=[300,200])\n",
    "    camcheck()\n"
   ]
  },
  {
   "cell_type": "code",
   "execution_count": null,
   "metadata": {
    "collapsed": true,
    "deletable": true,
    "editable": true
   },
   "outputs": [],
   "source": []
  }
 ],
 "metadata": {
  "kernelspec": {
   "display_name": "Python 2",
   "language": "python",
   "name": "python2"
  },
  "language_info": {
   "codemirror_mode": {
    "name": "ipython",
    "version": 2
   },
   "file_extension": ".py",
   "mimetype": "text/x-python",
   "name": "python",
   "nbconvert_exporter": "python",
   "pygments_lexer": "ipython2",
   "version": "2.7.13"
  }
 },
 "nbformat": 4,
 "nbformat_minor": 0
}
