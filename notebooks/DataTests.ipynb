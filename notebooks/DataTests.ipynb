{
 "cells": [
  {
   "cell_type": "markdown",
   "metadata": {},
   "source": [
    "### Data tests\n",
    "- Data retrieval / editing\n",
    "- Colour map edge cases (single value field)\n",
    "- Database write/read\n",
    "- Static geometry plotting before database load"
   ]
  },
  {
   "cell_type": "code",
   "execution_count": 1,
   "metadata": {},
   "outputs": [
    {
     "name": "stdout",
     "output_type": "stream",
     "text": [
      "/home/owen/LavaVu/lavavu/__init__.py 1.3.4\n"
     ]
    }
   ],
   "source": [
    "import lavavu\n",
    "import numpy\n",
    "print(lavavu.__file__, lavavu.version)"
   ]
  },
  {
   "cell_type": "code",
   "execution_count": 2,
   "metadata": {},
   "outputs": [
    {
     "name": "stdout",
     "output_type": "stream",
     "text": [
      "(10, 20, 2)\n"
     ]
    }
   ],
   "source": [
    "DIMS = (20,10)\n",
    "zeros = numpy.zeros(shape=DIMS)\n",
    "verts = lavavu.grid2d(dims=DIMS)\n",
    "print(verts.shape)"
   ]
  },
  {
   "cell_type": "code",
   "execution_count": 3,
   "metadata": {},
   "outputs": [],
   "source": [
    "#Create a simple test plot with colour bar\n",
    "lv = None\n",
    "surf = None\n",
    "def plot(verts, values, *args, **kwargs):\n",
    "    global lv, surf\n",
    "    lv = lavavu.Viewer(background=\"lightgrey\", resolution=(100,100), *args, **kwargs)\n",
    "    surf = lv.quads(\"surface\", colourmap=\"diverge\")\n",
    "    surf.colourbar(align=\"left\", font=\"vector\", size=(0.8,0.1), offset=10, position=0, fontscale=0.6)\n",
    "    surf.vertices(verts)\n",
    "    surf.values(values) \n",
    "    lv.display()"
   ]
  },
  {
   "cell_type": "code",
   "execution_count": 4,
   "metadata": {
    "scrolled": true
   },
   "outputs": [
    {
     "data": {
      "text/html": [
       "<img src='data:image/png;base64,iVBORw0KGgoAAAANSUhEUgAAAGQAAABkCAIAAAD/gAIDAAACY0lEQVR4nO3bsWrbUBTG8evKUgUeBGl30yldswf8CnmCQPALFAJ9gIx9BxHIktnv0L0EQ9agzCZEiwhXTduhg0QjdPw1tizF/x+eZGMOH/ecKyu5o+Vy6bCed7suYEgIS0BYAsISEJZg/PJSWZbe++5L6ZUoisIw/OdiQ1je+zB8SJKnTqrqozyPvT9YKyznXJI8Taf59qvqqSxzq1XD9eaw/grDM/N7y/Lyv2sanLawnHO/v35qeXf07W6jxfSdEZYLgk7KGAYrrDFhVVhZAjMs6wP7xBrwtGENbShgwAtYWQIGvIA2FNCGAsIS0IYCVpbAuoNnN6yhDQW0oYCwBLShgJUl4LehgDYU0IYCwhLwDF7AyhKwGwrYDQW0oYCVJWBlCRjwAtpQYD5WJqwKM0tAGwo6Wlk3N/eLxY/Z7HA2+7yRL9yJLnbDq6vv5+fXj4+FcyeDDss6uzMO2l5ruLhYzOfpdPpxA8XumrFwnq006wcLGg8QZNkqTeenp8frHEHoOSMs/zxq/4B5wiJN51pFPWaEVf7ijF3FCstaWXuFsASvnVl7xZxZhFUx25ABX6ENBbShoLvd8A0cEGZmCayZRRvWcFMqICwBYQnMmcWAr7CyBIQl4NZBwE2pgDYU8ENawCMaATNLwMwSMLMEzCwBbSjgz/cC2lBAGwrYDQXclAqYWQIjrJ+EVcPDPwFtKDDbkAFfoQ0FRli3X466qWMQ2sJ6A/8ktFnNYRXF+yxLOi6lP/I8brzeEFYcx0XxoSi2XFG/RVH08mJDWEEQTCaT7dczPNwZCAhLQFgCwhIQluAPpNCgNoLHnRoAAAAASUVORK5CYII='>"
      ],
      "text/plain": [
       "<IPython.core.display.HTML object>"
      ]
     },
     "metadata": {},
     "output_type": "display_data"
    }
   ],
   "source": [
    "plot(verts, zeros + 1.0)"
   ]
  },
  {
   "cell_type": "code",
   "execution_count": 5,
   "metadata": {},
   "outputs": [
    {
     "data": {
      "text/html": [
       "<img src='data:image/png;base64,iVBORw0KGgoAAAANSUhEUgAAAGQAAABkCAIAAAD/gAIDAAAB00lEQVR4nO3dMU7CYBiA4a8iLCwcQQfm7kzehHgEb8BNhJs4sSrhADo7sZiQEqKDMTHSQF+hP62+T5j+gf/LmzYNSUuz5XIZqubi3AO0ibEAYwHGAowFXO4ubTaboijSj9IovV6v2+3+WCyJVRTFfN5bLAZJpmqiPF+NRkWlWBGxWAxms+v6p2qo8fh5NHrdXS+P9SWr8M3vvxuojfbHikMtqtT8O7waAsYCjAUYCzAWYCzAWICxAGMBxgKMBRgLMBZgLMBYgLEAYwHGAowFGAswFmAswFiAsQBjAcYCjAUYCzAWYCzAWICxAGMBxgKMBRgLSBbrKWIS8ZBqu1ocvFv5JKYRdxGriIi4SbJjLRIcWZOI24ir+jeq3fGxsm+fUi8R9xGPR290fsefhgefsJgevUVTeDUEjAUYCzAWYCzAWICxAGMBaX4bfmr9A8IeWYCxAGMBxgKMBRgLMBZgLMBYgLEAYwHGAowFGAswFmAswFiAsQBjAcYCjAUYCzAWYCzAWICxAGMBxgKMBRy8i+Z//eP7fvtjtf4modMqjzUcvo3Hz4lHaY48X5WuZ7svVttut+v1uv6RGq3qq2Q6nU6/308yUst4NQSMBRgLMBZgLOADcggydJUwV6QAAAAASUVORK5CYII='>"
      ],
      "text/plain": [
       "<IPython.core.display.HTML object>"
      ]
     },
     "metadata": {},
     "output_type": "display_data"
    }
   ],
   "source": [
    "#Test a single value colourmap\n",
    "surf.colourmap(\"blue\")\n",
    "lv.display()"
   ]
  },
  {
   "cell_type": "code",
   "execution_count": 6,
   "metadata": {},
   "outputs": [
    {
     "data": {
      "text/plain": [
       "\"\"\"0.0000=rgba(40,143,208,1)\n",
       " 0.5000=rgba(251,251,159,1)\n",
       " 1.0000=rgba(255,117,32,1)\n",
       " \"\"\""
      ]
     },
     "execution_count": 6,
     "metadata": {},
     "output_type": "execute_result"
    }
   ],
   "source": [
    "#Restore\n",
    "surf.colourmap(\"diverge\")"
   ]
  },
  {
   "cell_type": "code",
   "execution_count": 7,
   "metadata": {},
   "outputs": [
    {
     "name": "stdout",
     "output_type": "stream",
     "text": [
      "[DrawData(\"grid\") ==> {'vertices': (3, 10, 20), 'normals': (3, 10, 20), 'indices': (1026,), 'default': 200}]\n"
     ]
    }
   ],
   "source": [
    "lv.objects\n",
    "d = lv.objects[\"surface\"].data\n",
    "print(d)"
   ]
  },
  {
   "cell_type": "code",
   "execution_count": 8,
   "metadata": {},
   "outputs": [
    {
     "data": {
      "text/html": [
       "<img src='data:image/png;base64,iVBORw0KGgoAAAANSUhEUgAAAGQAAABkCAIAAAD/gAIDAAACY0lEQVR4nO3bsWrbUBTG8evKUgUeBGl30yldswf8CnmCQPALFAJ9gIx9BxHIktnv0L0EQ9agzCZEiwhXTduhg0QjdPw1tizF/x+eZGMOH/ecKyu5o+Vy6bCed7suYEgIS0BYAsISEJZg/PJSWZbe++5L6ZUoisIw/OdiQ1je+zB8SJKnTqrqozyPvT9YKyznXJI8Taf59qvqqSxzq1XD9eaw/grDM/N7y/Lyv2sanLawnHO/v35qeXf07W6jxfSdEZYLgk7KGAYrrDFhVVhZAjMs6wP7xBrwtGENbShgwAtYWQIGvIA2FNCGAsIS0IYCVpbAuoNnN6yhDQW0oYCwBLShgJUl4LehgDYU0IYCwhLwDF7AyhKwGwrYDQW0oYCVJWBlCRjwAtpQYD5WJqwKM0tAGwo6Wlk3N/eLxY/Z7HA2+7yRL9yJLnbDq6vv5+fXj4+FcyeDDss6uzMO2l5ruLhYzOfpdPpxA8XumrFwnq006wcLGg8QZNkqTeenp8frHEHoOSMs/zxq/4B5wiJN51pFPWaEVf7ijF3FCstaWXuFsASvnVl7xZxZhFUx25ABX6ENBbShoLvd8A0cEGZmCayZRRvWcFMqICwBYQnMmcWAr7CyBIQl4NZBwE2pgDYU8ENawCMaATNLwMwSMLMEzCwBbSjgz/cC2lBAGwrYDQXclAqYWQIjrJ+EVcPDPwFtKDDbkAFfoQ0FRli3X466qWMQ2sJ6A/8ktFnNYRXF+yxLOi6lP/I8brzeEFYcx0XxoSi2XFG/RVH08mJDWEEQTCaT7dczPNwZCAhLQFgCwhIQluAPpNCgNoLHnRoAAAAASUVORK5CYII='>"
      ],
      "text/plain": [
       "<IPython.core.display.HTML object>"
      ]
     },
     "metadata": {},
     "output_type": "display_data"
    }
   ],
   "source": [
    "#Get a copy of original values\n",
    "vals_copy = d.values_copy\n",
    "#Modify original values\n",
    "v = 0\n",
    "for i in range(vals_copy[0].shape[0]):\n",
    "    for j in range(vals_copy[0].shape[1]):\n",
    "        vals_copy[0][i][j] += (0.01*v)\n",
    "        v+= 1\n",
    "#Show that originals are un-modified\n",
    "lv.display()"
   ]
  },
  {
   "cell_type": "code",
   "execution_count": 9,
   "metadata": {},
   "outputs": [
    {
     "data": {
      "text/html": [
       "<img src='data:image/png;base64,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'>"
      ],
      "text/plain": [
       "<IPython.core.display.HTML object>"
      ]
     },
     "metadata": {},
     "output_type": "display_data"
    }
   ],
   "source": [
    "#Modify values in place\n",
    "vals = d.values\n",
    "v = 0\n",
    "for i in range(vals[0].shape[0]):\n",
    "    for j in range(vals[0].shape[1]):\n",
    "        vals[0][i][j] -= (0.01*v)\n",
    "        v += 1\n",
    "\n",
    "#Have to set the range here or change will be undetected\n",
    "#This is due to caching of ranges to avoid expensive re-calculation\n",
    "#If we are using this interface we have access to the data in numpy,\n",
    "#so is easier to manually set our own range rather than try and detect\n",
    "#Alternative would be a function to invalidate cached range data on an object\n",
    "surf[\"range\"] = [float(numpy.amin(vals)), float(numpy.amax(vals))]\n",
    "lv.reload()\n",
    "lv.display()"
   ]
  },
  {
   "cell_type": "code",
   "execution_count": 10,
   "metadata": {},
   "outputs": [],
   "source": [
    "lv.objects\n",
    "d = lv.objects[\"surface\"].data"
   ]
  },
  {
   "cell_type": "code",
   "execution_count": 11,
   "metadata": {
    "scrolled": false
   },
   "outputs": [
    {
     "name": "stdout",
     "output_type": "stream",
     "text": [
      "(10, 20, 3)\n"
     ]
    }
   ],
   "source": [
    "#Get a copy of vertices, reshape to 3D\n",
    "vert_copy = d.vertices_copy[0]\n",
    "vert_copy = vert_copy.reshape((DIMS[1],DIMS[0],-1))\n",
    "print(vert_copy.shape)"
   ]
  },
  {
   "cell_type": "code",
   "execution_count": 12,
   "metadata": {},
   "outputs": [
    {
     "data": {
      "text/html": [
       "<img src='data:image/png;base64,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'>"
      ],
      "text/plain": [
       "<IPython.core.display.HTML object>"
      ]
     },
     "metadata": {},
     "output_type": "display_data"
    }
   ],
   "source": [
    "#Plot the modified copies at a new timestep\n",
    "plot(vert_copy, vals_copy)"
   ]
  },
  {
   "cell_type": "code",
   "execution_count": 13,
   "metadata": {},
   "outputs": [],
   "source": [
    "#Test export & reload\n",
    "lv.export()"
   ]
  },
  {
   "cell_type": "code",
   "execution_count": 14,
   "metadata": {},
   "outputs": [],
   "source": [
    "#Create new viewer\n",
    "lv = lavavu.Viewer(resolution=(100,100))"
   ]
  },
  {
   "cell_type": "code",
   "execution_count": 15,
   "metadata": {},
   "outputs": [
    {
     "name": "stdout",
     "output_type": "stream",
     "text": [
      "dict_keys(['ref_line'])\n"
     ]
    },
    {
     "data": {
      "text/html": [
       "<img src='data:image/png;base64,iVBORw0KGgoAAAANSUhEUgAAAGQAAABkCAIAAAD/gAIDAAADNklEQVR4nO2dUU4bMRCGHahApFBtGrWFt8kNcgPnJnuUiKP4JviNt3IDNg9VaBHsooQlCQruQ6WqxXbrAe9mw/7f4ygC6xOZ8fxZhY4xRoAwdjZ9gG0CshhAFgPIYgBZDN7ZpaIo8jyv/yiNotfrJUnyrOiQlef5xfeL4qCo5VRNJHlIhmIYJEsIMfwyHAwG1Z+qoVxeXjrr6FkMIIsBZDFw9yxdanWthBCiU+tpGgKVJLvSrv/vLwtb9h907NTh1yzANLQNoGcxgCwGkMXAPQ3VUulCP6+2ZjLKpUz3U7vuliUf5ehhVO2JGox5NGLfUXfLokManLR4Gi6wG74ayGLgfhtmt9lkPan5KM3B3Bn6SHbdMw3XSq1UtSf6TaVD9kXrWvqUjsXYrmPdcYB1JwKQxQCyGHjCv1yrJ0+Db8HSQwXJniP881wdVpmeW7the1gJKRyyMA0dYBpGALIYQBYDz7ozV3ra3gYv5zI9DA//duVob/Svn/emLxBm171SesK/Axr0WzwN7xD+vRrIYgBZDNw96/T6VJUvCv/eQOM3Ir1Px58Q/oWBdScCkMUAshh4wr8rrYoYn+5sRb+3ruu0IHkcHv7tZ/pDe3dDYRD+BYNpGAHIYgBZDDzh343Sqw01+FcO0BjPosuZTPvB4R+tSSwj/FYhGn97cMmlNTlfi2noANMwApDFALIYeMK/H6dq7toNX9Ctt7DBpyXCv2DQ4CMAWQwgi4EnzyqzyXU1z8FvvN8H7EOmNNQlu+5JSo3WT+0N/6SRJMiuYxo6wDSMAGQxgCwGnvBvqvRtixv8UqYn4eFfl0Sv4hM1GMrJWcc0dIBpGAHIYgBZDJjhXxQ2uB6GfVCWlun4c3D4l91knaONr7wbw8wM9clu8J6rg+ul7QFfkBgByGLgCf9m2eRbi78EY2boiOy6J/zb0/qwlt2whinCf1REzhD+BYN1JwKQxQCyGHga/L1WV3+vO226z9M9yffBz8GLHSH2qj1Qo/G83zANHWAaRgCyGEAWA3eDPy/Oz76e1XuSBpEskuHx0K47GvxisZhOp7Wcqrk4/5WMQxbwgZ7FALIYQBYDyGIAWQx+Au/KO6Y4OeEQAAAAAElFTkSuQmCC'>"
      ],
      "text/plain": [
       "<IPython.core.display.HTML object>"
      ]
     },
     "metadata": {},
     "output_type": "display_data"
    }
   ],
   "source": [
    "#Plot some static geometry first\n",
    "my_lines = lv.lines(\"ref_line\", colour=\"green\", linewidth=6.0)\n",
    "for y in numpy.linspace(0,1,16):\n",
    "    my_lines.vertices([(0.0, y, 0.0), (1.0, y, 0.0)])\n",
    "\n",
    "print(lv.objects)\n",
    "lv.display()"
   ]
  },
  {
   "cell_type": "code",
   "execution_count": 16,
   "metadata": {},
   "outputs": [
    {
     "name": "stdout",
     "output_type": "stream",
     "text": [
      "dict_keys(['ref_line', 'surface', 'surface_colourbar'])\n"
     ]
    },
    {
     "data": {
      "text/html": [
       "<img src='data:image/png;base64,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'>"
      ],
      "text/plain": [
       "<IPython.core.display.HTML object>"
      ]
     },
     "metadata": {},
     "output_type": "display_data"
    }
   ],
   "source": [
    "#Load the previously exported data\n",
    "lv.file(\"exported.gldb\")\n",
    "print(lv.objects)\n",
    "lv.display()"
   ]
  },
  {
   "cell_type": "code",
   "execution_count": null,
   "metadata": {},
   "outputs": [],
   "source": []
  }
 ],
 "metadata": {
  "kernelspec": {
   "display_name": "Python 3",
   "language": "python",
   "name": "python3"
  },
  "language_info": {
   "codemirror_mode": {
    "name": "ipython",
    "version": 3
   },
   "file_extension": ".py",
   "mimetype": "text/x-python",
   "name": "python",
   "nbconvert_exporter": "python",
   "pygments_lexer": "ipython3",
   "version": "3.7.3"
  }
 },
 "nbformat": 4,
 "nbformat_minor": 2
}
