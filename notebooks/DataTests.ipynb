{
 "cells": [
  {
   "cell_type": "markdown",
   "metadata": {},
   "source": [
    "### Data tests\n",
    "- Data retrieval / editing\n",
    "- Colour map edge cases (single value field)\n",
    "- Database write/read\n",
    "- Static geometry plotting before database load"
   ]
  },
  {
   "cell_type": "code",
   "execution_count": 1,
   "metadata": {},
   "outputs": [
    {
     "name": "stdout",
     "output_type": "stream",
     "text": [
      "('/home/owen/Dropbox/LavaVu/lavavu/__init__.pyc', '1.2.44.59-g6e08295')\n"
     ]
    }
   ],
   "source": [
    "import lavavu\n",
    "import numpy\n",
    "print(lavavu.__file__, lavavu.version)"
   ]
  },
  {
   "cell_type": "code",
   "execution_count": 2,
   "metadata": {},
   "outputs": [
    {
     "name": "stdout",
     "output_type": "stream",
     "text": [
      "(10, 20, 2)\n"
     ]
    }
   ],
   "source": [
    "DIMS = (20,10)\n",
    "zeros = numpy.zeros(shape=DIMS)\n",
    "verts = lavavu.grid2d(dims=DIMS)\n",
    "print(verts.shape)"
   ]
  },
  {
   "cell_type": "code",
   "execution_count": 3,
   "metadata": {},
   "outputs": [],
   "source": [
    "#Create a simple test plot with colour bar\n",
    "lv = None\n",
    "surf = None\n",
    "def plot(verts, values, *args, **kwargs):\n",
    "    global lv, surf\n",
    "    lv = lavavu.Viewer(background=\"lightgrey\", resolution=(100,100), *args, **kwargs)\n",
    "    surf = lv.quads(\"surface\", colourmap=\"diverge\")\n",
    "    surf.colourbar(align=\"left\", font=\"vector\", size=(0.8,0.1), offset=10, position=0, fontscale=0.6)\n",
    "    surf.vertices(verts)\n",
    "    surf.values(values) \n",
    "    lv.display()"
   ]
  },
  {
   "cell_type": "code",
   "execution_count": 4,
   "metadata": {
    "scrolled": true
   },
   "outputs": [
    {
     "data": {
      "text/html": [
       "<img src='data:image/png;base64,iVBORw0KGgoAAAANSUhEUgAAAGQAAABkCAIAAAD/gAIDAAACN0lEQVR4nO3dMU4bQRSH8TGGlTufAKFUScsJ3LiHK3CDVHS4oCOXyBlyhD2DpYhUyOIEW4FsHFJEyq6UiZ+/YJZd/P1EtVjW6K/33qwXRh7M5/Ok7Ry89QL6xLAAwwIMCzAswLCAw+zV5fJ+PH5seSndUVWjojj++3o+rPH48eSkeuUldddikR4eMtfzYf12dHQRvu9q9fW/19Q7m8JKKT1fftjw28GXu50upuuCsNJh9IJ9EmUxHLayjH4IK8uwalYWEA14w2qwDYGwDd0Na84swDYErCzAsADbEHA3BGxDILqDtw0brCzAsAAf/gFWFmBYgDelgJUFWFmAH3cAn8EDtiHggAcMC7ANAXdDwDYEbEPAygIMC/AZPOBuCLTUhmV5W5Y/JpOPk8mnnbzhm2hjNyzL2+n0JqWU0nmvw4qOowyHm362cH39bTq96XVGfwSVtY7SbB4s+NcBgqur89nsbJsjCB0XhLX6OQheEJ2wmM3O2Io6LAhrufbYWC2qrHVQWXvFsICXzqy94swCbEPANgSsLKC9mfUODgjbhoBtCIRtaFg1KwsIZ5Y3pTUrC3BmAd46AGEbOrNqziwgmlm2YYOVBRgWELahA75mZQGGBRgW4MwCgrCerKwGP0gD3sEDtiHgn+8Bn2cB3mcB7oaAT0oBZxZgGwJBWN8/n7azjl7YFNY7+Ceh3cqHVVWjxaLllXRIVY2KInM9H1ZRHGe/8WJPZJNKfu8OYliAYQGGBRgWYFjAL2yKjx7r4rHfAAAAAElFTkSuQmCC'>"
      ],
      "text/plain": [
       "<IPython.core.display.HTML object>"
      ]
     },
     "metadata": {},
     "output_type": "display_data"
    }
   ],
   "source": [
    "plot(verts, zeros + 1.0)"
   ]
  },
  {
   "cell_type": "code",
   "execution_count": 5,
   "metadata": {},
   "outputs": [
    {
     "data": {
      "text/html": [
       "<img src='data:image/png;base64,iVBORw0KGgoAAAANSUhEUgAAAGQAAABkCAIAAAD/gAIDAAABoUlEQVR4nO3dsW2DQBhA4Z8o6b1CJmCFuGAORgmreA4XYQXEAF6BJlWKpIgcRTIBXjBnSN4nF9YVvtMTxrJ0QNa2bWiau1svYEuMBRgLMBZgLMBYwH3v6PH41jS7xEtZjzzviuLhcrw/VtPsDofHhZe0XmV5KorXy/H+WGfZhE9+/92Ctmg4Voy1mFLz7/AEDxgLMBZgLMBYgLEAYwHGAowFGAswFmAswFiAsQBjAcYCjAUYCzAWYCzAWICxAGMBxgKMBRgLMBZgLMBYgLEAYwHGAowFGAswFmAsIFmsOqKKqFNNt4jR3cpXUUfsz++fksy4iARHVhWx33SjL/NjZd9eP3mOeJk90e3N/xqOXmFRzZ5iLfw1BIwFGAswFmAswFiAsQBjAWn+G37a/AXCHlmAsQBjAcYCjAUYCzAWYCzAWICxAGMBxgKMBRgLMBZgLMBYgLEAYwHGAowFGAswFmAswFiAsQBjAcYCjAWM7qL5X3d8HzYca/ObhK6rP1aed2V5SryU9cjzLqLngR+ZD1abzhM8YCzAWICxAGMBxgI+AP6oIT7VP738AAAAAElFTkSuQmCC'>"
      ],
      "text/plain": [
       "<IPython.core.display.HTML object>"
      ]
     },
     "metadata": {},
     "output_type": "display_data"
    }
   ],
   "source": [
    "#Test a single value colourmap\n",
    "surf.colourmap(\"blue\")\n",
    "lv.display()"
   ]
  },
  {
   "cell_type": "code",
   "execution_count": 6,
   "metadata": {},
   "outputs": [
    {
     "data": {
      "text/plain": [
       "\"\"\"0.0000=rgba(40,143,208,1)\n",
       " 0.5000=rgba(251,251,159,1)\n",
       " 1.0000=rgba(255,117,32,1)\n",
       " \"\"\""
      ]
     },
     "execution_count": 6,
     "metadata": {},
     "output_type": "execute_result"
    }
   ],
   "source": [
    "#Restore\n",
    "surf.colourmap(\"diverge\")"
   ]
  },
  {
   "cell_type": "code",
   "execution_count": 7,
   "metadata": {},
   "outputs": [
    {
     "name": "stdout",
     "output_type": "stream",
     "text": [
      "[GeomData(\"grid\") ==> {'indices': 684, 'default': 200, 'values': 22008, 'vertices': 600, 'normals': 600}]\n"
     ]
    }
   ],
   "source": [
    "lv.objects\n",
    "d = lv.objects[\"surface\"].data\n",
    "print(d)"
   ]
  },
  {
   "cell_type": "code",
   "execution_count": 8,
   "metadata": {},
   "outputs": [
    {
     "data": {
      "text/html": [
       "<img src='data:image/png;base64,iVBORw0KGgoAAAANSUhEUgAAAGQAAABkCAIAAAD/gAIDAAACN0lEQVR4nO3dMU4bQRSH8TGGlTufAKFUScsJ3LiHK3CDVHS4oCOXyBlyhD2DpYhUyOIEW4FsHFJEyq6UiZ+/YJZd/P1EtVjW6K/33qwXRh7M5/Ok7Ry89QL6xLAAwwIMCzAswLCAw+zV5fJ+PH5seSndUVWjojj++3o+rPH48eSkeuUldddikR4eMtfzYf12dHQRvu9q9fW/19Q7m8JKKT1fftjw28GXu50upuuCsNJh9IJ9EmUxHLayjH4IK8uwalYWEA14w2qwDYGwDd0Na84swDYErCzAsADbEHA3BGxDILqDtw0brCzAsAAf/gFWFmBYgDelgJUFWFmAH3cAn8EDtiHggAcMC7ANAXdDwDYEbEPAygIMC/AZPOBuCLTUhmV5W5Y/JpOPk8mnnbzhm2hjNyzL2+n0JqWU0nmvw4qOowyHm362cH39bTq96XVGfwSVtY7SbB4s+NcBgqur89nsbJsjCB0XhLX6OQheEJ2wmM3O2Io6LAhrufbYWC2qrHVQWXvFsICXzqy94swCbEPANgSsLKC9mfUODgjbhoBtCIRtaFg1KwsIZ5Y3pTUrC3BmAd46AGEbOrNqziwgmlm2YYOVBRgWELahA75mZQGGBRgW4MwCgrCerKwGP0gD3sEDtiHgn+8Bn2cB3mcB7oaAT0oBZxZgGwJBWN8/n7azjl7YFNY7+Ceh3cqHVVWjxaLllXRIVY2KInM9H1ZRHGe/8WJPZJNKfu8OYliAYQGGBRgWYFjAL2yKjx7r4rHfAAAAAElFTkSuQmCC'>"
      ],
      "text/plain": [
       "<IPython.core.display.HTML object>"
      ]
     },
     "metadata": {},
     "output_type": "display_data"
    }
   ],
   "source": [
    "#Get a copy of original values\n",
    "vals_copy = d.values_copy\n",
    "#Modify original values\n",
    "for v in range(vals_copy[0].shape[0]):\n",
    "    vals_copy[0][v] += (0.01*v)\n",
    "#Show that originals are un-modified\n",
    "lv.display()"
   ]
  },
  {
   "cell_type": "code",
   "execution_count": 9,
   "metadata": {},
   "outputs": [
    {
     "data": {
      "text/html": [
       "<img src='data:image/png;base64,iVBORw0KGgoAAAANSUhEUgAAAGQAAABkCAIAAAD/gAIDAAAPnUlEQVR4nO1dXaxdRRVes0/h8lOhpRUTotgKpS1wEnrrMWrAgPGBFywID+qTOdyXe4HEF3kxBkEE4yMm9z7QezQaH7RSCvhmorX8SDxNr1rKLT+VRhM1UFRMMNp79h4fZu/Za61Za/bMLbdq0onCPnvNrFnrm2+tWTPnkGuOHj0K51paK/7bBvw/tXNgZbRzYGW0c2BltHNgZbSzBNZ4PJ6fnx+Px2dnujVq68S3K688t+Gvr5BXhnUxwhul28GT/xw+tAAA5//ptzfDMXU4f+Nem6RuQk/pTW2hib/5+/qPnLf1Y+FQGawNf3tl6++fsaZVRuY2zBTvgMer7fngL089ePCtm7dcfPDkuxveeW3LH9+ho4yk0D/jBZB6Mj/ZeyNp4BaacOBJY96FZLDAFNDrFd98VZYqrfr6tdw4A2DMA5/+wAO3XF587SgUBfQKaijlI1sPvk7NqtD1EJ6xAXG8GKzu34WcnRSwCgO9AgDs/VvlDk7tt9+oHrqe+kONM+aBz1yBP0KvR42Oo+C1hZQBwXMIYGppF9Ifz2uIBjF+dWY1Xq1TOvjWMoVmE0PhcJ8KA0VPZo2hPpB/d+EljmLx1Voowkp7FllgFYUtegDQEEFvmCkGAIxtbWM8B2sK6/qLOS7EC/OCdRCJLOjRYjZQhbpZkxWGpg5DWNcFFmNKiAJzwzNRdi+KF4FJDDHcQYtZw0eF8+Yxy4dhCrP4+jMHkCdF0TKRu8r6I3NDPYyMXKGGfjAq3FXDkERNDcM6wXeDVXDPAbjbrUcGoZ9SOijPMqwBmjL1WOaSFjg7DF3O6gxD77zonttlWmYZTlW+D3ThFSYsTkMxBvFzSLqwdFhlGHbuhr2A6sxonJUKKAqKgjeaZ1kZBUM/gj5KYKv7v4Kmtk6oRcIwMWcVsnvC0jXMElKS4f1DhUDxMugJUwZw2g41sG6iwtyiNHs37Mar/N6tVERtDROchh3LL+ozRU2wMKiwGM2DFqngc3dDHS+VNUDwIjVBpBv9yPkFCgqiDfSN75aZs5rqsQssS3bD0AeKl+ZekF+seEon/QPPsQY5Awaj5AfI2w1tkbUb6qVDaJAYO5HCR+ypMkWZFCvj74O4M7lhaOo6q3s3LHp8nyKIoI/qYQ1Lvb1KlKmIK3jxngHRxG75x53k3TD1/CEdWSMoAFD3wrgO58Jk0ecSjGFKspjVJHibWJQKrAGhcgnDDYBzSkQZiziRlVGRudio0HibBVYbholgAVlV0bhEvAx5EtJTmOnIKMmYjsNT0K3MvvzLLErF3Bw+128YF0DV0L6XgkvFi0axrFCEFQBMLrOSL/98UUos8zNrh1uRNRpeYvUgogAEnZCVofK6J/4IUOblrKIu+VOL0njGVXwQh8gMDYDjaxPy1z+I+YFpo/rXfjcUUwP1h1uWhUIYO1JP+X5CgxV1wCuXe+tQV/Bdu6EluyEyRTRUXOdEvFrlwaFPILJLO4aMEhQiA5DxltGwaXoYmtXthsiK0D1iGe5JH3jaBsXVtIiW8UI9Q+Ozbx2yLv/URY6whiHC8NIUMm2B/o65tNtnKsq+dSjSLv/8ZZ68yAEiskHSzUSsJ3TgJZgkdmNzoXs3qXUUpQl38OtoBhEd6FzAECaxlKfPsQc2V/Ltc/1xdczqDsMiWGEaViFeseyOuyElqqthRFO8RP1YoWj8mpUOKGfJ7gVk0TwXQkxUGMSXKsL6jaREwWt1YZh63CGRKOHFDFJZI15C6HjFL1c54kq1HBqfxyx/Nsy6deBT4mcWOKQ3dVVMcDrKDDVmRgyvIIr9qMKAhbB1FaVdu2G7AyTixchPeoodEo+TIqza2sQXBsDkgGXTvwqLlw78vY6XigKQpIZHhTWnoFDCS15CNCr/G+m0r8LO5CANCl48dkDaBEQykhjjekS8ROMLA6Xga+yXfwBrca2sd5Pd03ON7xAyRVQoUl42npjl23vxvWFrE5pDvDINyyJtFPNEVRh0S1JIR4Wi/G+kk+7grf99VvyYBhJS6vEQDzRcGs9HbCBEYJKsEpezaZFf/iV+FVZYIWoEs6ywhkHaAua525QocaD5QsEAWPdPiqMlna01bU/XB/04ES+Mbd5U0lYIZ17B26Kw2mLin0y2lgEY/15A1uL+7TQGDFjWn4FSI0VzlhN5TE0zQbOu1iLDGkFZZTEreTe0Rc/6IVQFc7txrbbY0iESfIa/D0bVIw1ymw4Hwk3Xxz1RKQWryvvCIjnBu2i1KIKsRf5YFH3YVYN88NgBchtR1VL3oOGC9RyxUK+NpUMa/2uRNw/YItXB6EflhmFhewUAlF3/cY8tCjSNwU6Bu5/1VhrEgtrQNmwxDYmGRm0tQoIWRA8cYRN44DDcGAfrzaUZoFJ+rtyRs1aU6G3nK3pA2UTctgSIditwPtiW/4gmxno9TYqxEl4NlVAHT2TLQCHZ0yPbgIjTKFiA0soc6fgVzWnlu1nUs3B4WOq2D8zQMou2niCH1IBa5JynSQsiTmHowUOGwGpH1QMtQ9nZjFba5uas5opmRfm6sW0uwdvWB4RFA43loNRDDKdJ6yHGjnmOWCO9N4G2hsXBRD4MmRmZOauobx06wbJF4aZEy46scUi10YTMbUqB1vomYK1P2EBHAVB+tRypecr54p7rTYO+bGIWGHZg3W4o+a2EoTWlNZCQsya2IJORuVvOhyJvtDoqQ0QY59FpugCaq14QClk7qgGLl4CuyWCVFiZlAQk5a1IiClg5rGqmBMsuQ4DDB8VIKJLnApnmlim0gUJkRpmVsyprHKc6w9BTz8cODY1mDVlqwLTyvqFRWKEkQjUBD3CEFBW1UUlD0nf2aaGqAKT6UgMLJlVaGFZt9WwhXK7GCModWDVSKO4CrjVYSCLEtSYDcKTaGfN2w6oyjlOdzPJhyPIocZKuNvUh8E1KPVrykkhk8BC+NjQS2dR+Rnam9U3PWZWBhJzlqMcQCSKRI4I6GAUpOfUIcykRCoIZiD4CUuCB7uXmrPQwZAGvBpSEFLFYQ0rPSjGkAjMwK0FAqq3F2mG0qTkrMQxdB+Y2NldEqjHGCEgFOAb+d81FkSI1RP020s1YgGJ1zDrdmbMcs4IkguyQKwMussx6XlKFou65QE95EZGF8zKZlVc64MNEUG0a3fpghVvslNNJMJcmYqPUGKfUc6KpLGaVFUxcGFZdRWllxG0emShld1HEitjQSSqixZp7juwkgEQdJpXZOSuRWShnhUnEhYZuvQkwopcWckxF5wqgAY6UZBIVVVnXypU1Nitn0cMHTZyxvZzTJBgIAiJIFOGdMBdJTIBYiYw3kHtFU9ka3c7SYaUykeVi537JeZprxUjkroJY9yfM5Z5RymMGN+uad0VTWlPWpUPqQVpbLocjC0Mski4AeGYBkETiQHZil6iHRaFayD9IJ+csejaExiYaC8JxB4v4+oultpZ0JIjFuRrzeASE6TWPWW2dlVLB48nQqlJXtdRLb+aIGwZINpFFIcTkpZC8SA4VN4dKvM1673bDwA6eNWIijXdtJGoimz0XE1lJVCnOdp0NUyt4YWsD4n+HSImaLoVNJOaNYtQLRGXWb0p9UXq6qyhdqfi1cueRULv55hB05RqEVMdGHDGDVbY1sxSGnOlxB+2G2DGaVri5wmWxmFCIQk1kg7mkTCSa0WYuOleVxaz2pjRxN+SOQWQHbDcsHAv6qIjCNrhoWKHnrqzXvMdzVcpvFs6YWVXHF1AAEDip1gTCfYCkkM6VgJSwq8qnSPecdzYsbXrOEu/SAqRwXDDrqUiJmgCpoIzgC4DJ6AcqZjCFVSXvhx3MmiQwC4TiMOGKWRIF688VRkTxo0+nGVhh9tlwYtMO0qW4RPIdiHjBAlERVhgRSdc1IBb6KXNlVvCVWbFJFTw67tAbS9DrcoZUtAJiCmURPeWhaA2+IkxLFHnMKpuiNCUMhQNHivXYhyB4QYJDFkVWRbopi5jh51rl5V/SV2GM58q3LxwOvkMl3D5HRV6nMEq3kKHmRLk5y0zKBotoa4vSdvU67kAkpFRRqNA7ljcXK2KjZmQn+PwrGnrCAJ5028Sk1w2iqPPIQpDSFNqoGVSkVA6xnAWQca0smALIgfo9jiDmmCLqvKhpZ4koJMmrAynI/61DfUfaeVPaXtF0INW6/eby0pvHll56YnT5tbuuu3P4/p271EMJwPL+0VvLR04tL23euWvzjuntd9yNM+Cp40defXLx7eNHNu2Y3rRj19W3zzSTSgoR8eOlr5bgZSzw1/eR/wHApDIrlSH/LGvppDIrpZnQ938+9pufP3TfS0+Mdn7u7srCL75x3+9+8l0/3PXx/Q89fO/y/kVrzbbbZyprjj+5+Nwj99ZqS7P85OKvHr2nsnDVnpnKwqsHFl/81j2Tsp5UUKhbxUT5RWnatzskZwHfaMDnrGa1jz2xCAB7vv+CBdi25+7nH733+P7FbXtmxFPkqeNLl22f/uj98wCw9bNw4qm9J57a++bLSxu3T1uA1w/s3bB9evorCxbgw7fBG0/vfePpx197anHLbTNhhCJ+KffOSJR9rezi6+Uv74qD9aMv3Oif7/jBCyFSBEQLp5aXtt0+44N3447pt48fWd6/ePWeGebYiaf3AsCG7dP+ftEt+KnjS+u37T7ppNfs9qu1fttugMcrW1+xIQgEOCJI2dyc5X5ydNcPn8eThemARb58XQPtlvzagb3Q0NZ12HrbzOsH9vrNFzvmvotzCcEl7/c5OCqYVMalFVc8u1EXX73bjZqU3EKc3UWkvIVOlMesK86z0+tLpIw6TycI35OP6PlfF1QnAD40VX1yw6TRAD8DuPKC6sYNK0xJ/+P9x56BKy8sP7XxtNs6Dv3h1wCw5cLypo0r//hE/zs/hS0XTm667LQb8ey+EQBsuai8adO/0ezk+zRmmCa66qKJCIsM1g0f3HSDKDiz9pfLpg4C7Nw0dec1l/qXDwLs3DR11/ZLee8dtzz2VTj049GXbr1xMBiMx+OH940A4LrNU5/feQnsvOXFA4Nn942u3zw1Nzc3Ho8f2bcIAP3N53/x2kvWwHaA//E/UjQajQaDwXA47Pf7w+FwNBph6ezs7GAwWFhYEKVr0br+28szaPPz8wsLC/7jKv424GAwGAwGq5OuRVtDsEJP5ubmMHwAMD8/n64w/gehzsKfi1pbsMSVP3z4MHszNzcnauj3+7Ozs17qgPYf+/3+YDDw0efA0lS9J+1s56zZ2dnxeDwcDt1fD1tYWMCAzs/P9/t9TzeXkhwK7k+N4c5OlZcyVWvR1pBZYpubmzt8+LB3ElMjbKPRaDgcDodD95F1dqo06Vq0/wBSKYMiLrokgAAAAABJRU5ErkJggg=='>"
      ],
      "text/plain": [
       "<IPython.core.display.HTML object>"
      ]
     },
     "metadata": {},
     "output_type": "display_data"
    }
   ],
   "source": [
    "#Modify values in place\n",
    "vals = d.values\n",
    "for v in range(vals[0].shape[0]):\n",
    "    vals[0][v] -= (0.01*v)\n",
    "\n",
    "#Have to set the range here or change will be undetected\n",
    "#This is due to caching of ranges to avoid expensive re-calculation\n",
    "#If we are using this interface we have access to the data in numpy,\n",
    "#so is easier to manually set our own range rather than try and detect\n",
    "#Alternative would be a function to invalidate cached range data on an object\n",
    "surf[\"range\"] = [float(numpy.amin(vals)), float(numpy.amax(vals))]\n",
    "lv.reload()\n",
    "lv.display()"
   ]
  },
  {
   "cell_type": "code",
   "execution_count": 10,
   "metadata": {},
   "outputs": [],
   "source": [
    "lv.objects\n",
    "d = lv.objects[\"surface\"].data"
   ]
  },
  {
   "cell_type": "code",
   "execution_count": 11,
   "metadata": {
    "scrolled": false
   },
   "outputs": [
    {
     "name": "stdout",
     "output_type": "stream",
     "text": [
      "(10, 20, 3)\n"
     ]
    }
   ],
   "source": [
    "#Get a copy of vertices, reshape to 3D\n",
    "vert_copy = d.vertices_copy[0]\n",
    "vert_copy = vert_copy.reshape((DIMS[1],DIMS[0],-1))\n",
    "print(vert_copy.shape)"
   ]
  },
  {
   "cell_type": "code",
   "execution_count": 12,
   "metadata": {},
   "outputs": [
    {
     "data": {
      "text/html": [
       "<img src='data:image/png;base64,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'>"
      ],
      "text/plain": [
       "<IPython.core.display.HTML object>"
      ]
     },
     "metadata": {},
     "output_type": "display_data"
    }
   ],
   "source": [
    "#Plot the modified copies at a new timestep\n",
    "plot(vert_copy, vals_copy)"
   ]
  },
  {
   "cell_type": "code",
   "execution_count": 13,
   "metadata": {},
   "outputs": [],
   "source": [
    "#Test export & reload\n",
    "lv.export()"
   ]
  },
  {
   "cell_type": "code",
   "execution_count": 14,
   "metadata": {},
   "outputs": [],
   "source": [
    "#Create new viewer\n",
    "lv = lavavu.Viewer(resolution=(100,100))"
   ]
  },
  {
   "cell_type": "code",
   "execution_count": 15,
   "metadata": {},
   "outputs": [
    {
     "name": "stdout",
     "output_type": "stream",
     "text": [
      "['ref_line']\n"
     ]
    },
    {
     "data": {
      "text/html": [
       "<img src='data:image/png;base64,iVBORw0KGgoAAAANSUhEUgAAAGQAAABkCAIAAAD/gAIDAAABjklEQVR4nO3dUW3CYBRH8Y9lAiaBKiBTgJRiASVowAEWULDUALWAg07A/ks46aXrwvmFpz6VE+jluy9spmlqeszbX9/Af2IswFiAsQBjAcYC3uPV09dp+BgWvpX12N13x8/jz+ub+DtrHMeu655/Vyv129v3awgYCzAWkB/w13Y9t/PCt7Ie27btms+sefIna9/2h3ZY9k5WZGxjvO4nCzAWYCxiSvpb36b2sq/+1scsHncCjzsFjAUYCzAW4TR0Gs7iNCxgLMBYgMu/wOVfAZd/gcu/AsYCjAU4DQOnYQGnYeA0LGAswFiEyz+Xf7O4/CtgLMBYgMedwONOAY87gcedAsYCjAU4DQOnYQGnYeA0LGAswFiEyz+Xf7O4/CtgLMBYgMedwONOAY87gcedAsYCjAU4DQOnYQGnYeA0LGAswFiEyz+Xf7O4/CtgLMBYgLEIp6HTcBanYQFjAcYCXP4FLv8KuPwLXP4VMBZgLCA/sy73yzC+9h9+tIf/8EORX0PAWICxAGMBxgKMBXwDByyJV3c7kgYAAAAASUVORK5CYII='>"
      ],
      "text/plain": [
       "<IPython.core.display.HTML object>"
      ]
     },
     "metadata": {},
     "output_type": "display_data"
    }
   ],
   "source": [
    "#Plot some static geometry first\n",
    "my_lines = lv.lines(\"ref_line\", colour=\"green\", linewidth=6.0)\n",
    "for y in numpy.linspace(0,1,16):\n",
    "    my_lines.vertices([(0.0, y, 0.0), (1.0, y, 0.0)])\n",
    "\n",
    "print(lv.objects)\n",
    "lv.display()"
   ]
  },
  {
   "cell_type": "code",
   "execution_count": 16,
   "metadata": {},
   "outputs": [
    {
     "data": {
      "text/html": [
       "<img src='data:image/png;base64,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'>"
      ],
      "text/plain": [
       "<IPython.core.display.HTML object>"
      ]
     },
     "metadata": {},
     "output_type": "display_data"
    }
   ],
   "source": [
    "#Load the previously exported data\n",
    "lv.file(\"exported.gldb\")\n",
    "print(lv.objects)\n",
    "lv.display()"
   ]
  }
 ],
 "metadata": {
  "kernelspec": {
   "display_name": "Python 2",
   "language": "python",
   "name": "python2"
  },
  "language_info": {
   "codemirror_mode": {
    "name": "ipython",
    "version": 2
   },
   "file_extension": ".py",
   "mimetype": "text/x-python",
   "name": "python",
   "nbconvert_exporter": "python",
   "pygments_lexer": "ipython2",
   "version": "2.7.15rc1"
  }
 },
 "nbformat": 4,
 "nbformat_minor": 2
}
