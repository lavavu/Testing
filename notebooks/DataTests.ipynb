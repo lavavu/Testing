{
 "cells": [
  {
   "cell_type": "markdown",
   "metadata": {},
   "source": [
    "### Data tests\n",
    "- Data retrieval / editing\n",
    "- Colour map edge cases (single value field)\n",
    "- Database write/read\n",
    "- Static geometry plotting before database load"
   ]
  },
  {
   "cell_type": "code",
   "execution_count": null,
   "metadata": {},
   "outputs": [],
   "source": [
    "import lavavu\n",
    "import numpy\n",
    "print(lavavu.__file__, lavavu.version)"
   ]
  },
  {
   "cell_type": "code",
   "execution_count": null,
   "metadata": {},
   "outputs": [],
   "source": [
    "width = 20\n",
    "height = 10\n",
    "zeros = numpy.zeros(shape=(height,width))\n",
    "verts = lavavu.grid2d(dims=(width,height))\n",
    "print(verts.shape)"
   ]
  },
  {
   "cell_type": "code",
   "execution_count": null,
   "metadata": {},
   "outputs": [],
   "source": [
    "#Create a simple test plot with colour bar\n",
    "lv = None\n",
    "surf = None\n",
    "def plot(verts, values, *args, **kwargs):\n",
    "    global lv, surf\n",
    "    lv = lavavu.Viewer(background=\"lightgrey\", resolution=(100,100), *args, **kwargs)\n",
    "    surf = lv.quads(\"surface\", colourmap=\"diverge\")\n",
    "    surf.colourbar(align=\"left\", font=\"vector\", size=(0.8,0.1), offset=10, position=0, fontsize=0.6)\n",
    "    surf.vertices(verts)\n",
    "    surf.values(values) \n",
    "    lv.display()"
   ]
  },
  {
   "cell_type": "code",
   "execution_count": null,
   "metadata": {
    "scrolled": true
   },
   "outputs": [],
   "source": [
    "plot(verts, zeros + 1.0)"
   ]
  },
  {
   "cell_type": "code",
   "execution_count": null,
   "metadata": {},
   "outputs": [],
   "source": [
    "#Test a single value colourmap\n",
    "surf.colourmap(\"blue\")\n",
    "lv.display()"
   ]
  },
  {
   "cell_type": "code",
   "execution_count": null,
   "metadata": {},
   "outputs": [],
   "source": [
    "#Restore\n",
    "surf.colourmap(\"diverge\")"
   ]
  },
  {
   "cell_type": "code",
   "execution_count": null,
   "metadata": {},
   "outputs": [],
   "source": [
    "lv.objects\n",
    "d = lv.objects[\"surface\"].data\n",
    "print(d)"
   ]
  },
  {
   "cell_type": "code",
   "execution_count": null,
   "metadata": {},
   "outputs": [],
   "source": [
    "#Get a copy of original values\n",
    "vals_copy = d.values_copy\n",
    "#Modify original values\n",
    "v = 0\n",
    "for i in range(vals_copy[0].shape[0]):\n",
    "    for j in range(vals_copy[0].shape[1]):\n",
    "        vals_copy[0][i][j] += (0.01*v)\n",
    "        v+= 1\n",
    "#Show that originals are un-modified\n",
    "lv.display()"
   ]
  },
  {
   "cell_type": "code",
   "execution_count": null,
   "metadata": {},
   "outputs": [],
   "source": [
    "#Modify values in place\n",
    "vals = d.values\n",
    "v = 0\n",
    "for i in range(vals[0].shape[0]):\n",
    "    for j in range(vals[0].shape[1]):\n",
    "        vals[0][i][j] -= (0.01*v)\n",
    "        v += 1\n",
    "\n",
    "#Have to set the range here or change will be undetected\n",
    "#This is due to caching of ranges to avoid expensive re-calculation\n",
    "#If we are using this interface we have access to the data in numpy,\n",
    "#so is easier to manually set our own range rather than try and detect\n",
    "#Alternative would be a function to invalidate cached range data on an object\n",
    "surf[\"range\"] = [float(numpy.amin(vals)), float(numpy.amax(vals))]\n",
    "lv.reload()\n",
    "lv.display()"
   ]
  },
  {
   "cell_type": "code",
   "execution_count": null,
   "metadata": {},
   "outputs": [],
   "source": [
    "lv.objects\n",
    "d = lv.objects[\"surface\"].data"
   ]
  },
  {
   "cell_type": "code",
   "execution_count": null,
   "metadata": {
    "scrolled": false
   },
   "outputs": [],
   "source": [
    "#Get a copy of vertices, reshape to 3D\n",
    "vert_copy = d.vertices_copy[0]\n",
    "print(vert_copy.shape)\n",
    "vert_copy = vert_copy.reshape((height,width,-1))\n",
    "print(vert_copy.shape)"
   ]
  },
  {
   "cell_type": "code",
   "execution_count": null,
   "metadata": {},
   "outputs": [],
   "source": [
    "#Plot the modified copies at a new timestep\n",
    "plot(vert_copy, vals_copy)"
   ]
  },
  {
   "cell_type": "code",
   "execution_count": null,
   "metadata": {},
   "outputs": [],
   "source": [
    "#Test export & reload\n",
    "lv.export()"
   ]
  },
  {
   "cell_type": "code",
   "execution_count": null,
   "metadata": {},
   "outputs": [],
   "source": [
    "#Create new viewer\n",
    "lv = lavavu.Viewer(resolution=(100,100))"
   ]
  },
  {
   "cell_type": "code",
   "execution_count": null,
   "metadata": {},
   "outputs": [],
   "source": [
    "#Plot some static geometry first\n",
    "my_lines = lv.lines(\"ref_line\", colour=\"green\", linewidth=6.0)\n",
    "for y in numpy.linspace(0,1,16):\n",
    "    my_lines.vertices([(0.0, y, 0.0), (1.0, y, 0.0)])\n",
    "\n",
    "print(lv.objects)\n",
    "lv.display()"
   ]
  },
  {
   "cell_type": "code",
   "execution_count": null,
   "metadata": {},
   "outputs": [],
   "source": [
    "#Load the previously exported data\n",
    "lv.file(\"exported.gldb\")\n",
    "print(lv.objects)\n",
    "lv.display()"
   ]
  }
 ],
 "metadata": {
  "kernelspec": {
   "display_name": "Python 3",
   "language": "python",
   "name": "python3"
  },
  "language_info": {
   "codemirror_mode": {
    "name": "ipython",
    "version": 3
   },
   "file_extension": ".py",
   "mimetype": "text/x-python",
   "name": "python",
   "nbconvert_exporter": "python",
   "pygments_lexer": "ipython3",
   "version": "3.6.6"
  }
 },
 "nbformat": 4,
 "nbformat_minor": 2
}
