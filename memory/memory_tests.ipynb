{
 "cells": [
  {
   "cell_type": "markdown",
   "metadata": {},
   "source": [
    "## Memory leak tests and graphs\n"
   ]
  },
  {
   "cell_type": "code",
   "execution_count": null,
   "metadata": {
    "scrolled": false
   },
   "outputs": [],
   "source": [
    "import lavavu\n",
    "print(lavavu.version,lavavu.__file__)\n",
    "import numpy"
   ]
  },
  {
   "cell_type": "code",
   "execution_count": null,
   "metadata": {},
   "outputs": [],
   "source": [
    "import mem\n",
    "log = mem.Log('memtest')"
   ]
  },
  {
   "cell_type": "markdown",
   "metadata": {},
   "source": [
    "**Create a viewer**"
   ]
  },
  {
   "cell_type": "code",
   "execution_count": null,
   "metadata": {},
   "outputs": [],
   "source": [
    "#Get a new viewer instance with required settings\n",
    "def newViewer():\n",
    "    lv = lavavu.Viewer(resolution=(200,200))\n",
    "    #lv.test()\n",
    "    lv.render()"
   ]
  },
  {
   "cell_type": "markdown",
   "metadata": {},
   "source": [
    "**Iterate**"
   ]
  },
  {
   "cell_type": "code",
   "execution_count": null,
   "metadata": {},
   "outputs": [],
   "source": [
    "lv = None\n",
    "for i in range(20):\n",
    "    lv = newViewer()\n",
    "    log.log()"
   ]
  },
  {
   "cell_type": "code",
   "execution_count": null,
   "metadata": {},
   "outputs": [],
   "source": [
    "#%matplotlib inline\n",
    "#log.plot()"
   ]
  },
  {
   "cell_type": "markdown",
   "metadata": {},
   "source": [
    "### Test: attempt to detect a memory leak from log\n",
    "\n",
    "- Need to check the gradient is mostly flat,\n",
    "- Jumps are ok but should not increase every step\n",
    "- Median change between steps?"
   ]
  },
  {
   "cell_type": "code",
   "execution_count": null,
   "metadata": {},
   "outputs": [],
   "source": [
    "increase = []\n",
    "#print(log.fn)\n",
    "log.logfile.close() #Ensure file closed/flushed\n",
    "with open(log.fn, 'r') as f:\n",
    "    last = None\n",
    "    diffs = []\n",
    "    percent = None\n",
    "    lines = f.readlines()\n",
    "    for line in lines: #[-6:]:\n",
    "        val = float(line)\n",
    "        if last is not None:\n",
    "            #Calculate percentage increase\n",
    "            percent = 100 * (val/last - 1.0)\n",
    "            diffs.append(percent)\n",
    "        #    print(val, val-last, percent, \"%\")\n",
    "        #else:\n",
    "        #    print(val)\n",
    "        increase.append(percent)\n",
    "        last = val\n",
    "\n",
    "med = numpy.median(diffs)\n",
    "print(\"Median diff \", med, \"%\")\n",
    "if med > 1.0:\n",
    "    raise(Exception(\"Memory leak detected, median increase > 1%\"))\n"
   ]
  },
  {
   "cell_type": "code",
   "execution_count": null,
   "metadata": {},
   "outputs": [],
   "source": []
  }
 ],
 "metadata": {
  "kernelspec": {
   "display_name": "Python 3",
   "language": "python",
   "name": "python3"
  },
  "language_info": {
   "codemirror_mode": {
    "name": "ipython",
    "version": 3
   },
   "file_extension": ".py",
   "mimetype": "text/x-python",
   "name": "python",
   "nbconvert_exporter": "python",
   "pygments_lexer": "ipython3",
   "version": "3.7.3"
  }
 },
 "nbformat": 4,
 "nbformat_minor": 2
}
