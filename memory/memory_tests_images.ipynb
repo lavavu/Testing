{
 "cells": [
  {
   "cell_type": "markdown",
   "metadata": {},
   "source": [
    "## Memory leak tests and graphs\n"
   ]
  },
  {
   "cell_type": "code",
   "execution_count": null,
   "metadata": {
    "scrolled": false
   },
   "outputs": [],
   "source": [
    "import lavavu\n",
    "lavavu.settings[\"default_args\"] = []\n",
    "import numpy"
   ]
  },
  {
   "cell_type": "code",
   "execution_count": null,
   "metadata": {},
   "outputs": [],
   "source": [
    "import mem\n",
    "log = mem.Log('memtest')"
   ]
  },
  {
   "cell_type": "markdown",
   "metadata": {},
   "source": [
    "**Create a viewer**"
   ]
  },
  {
   "cell_type": "code",
   "execution_count": null,
   "metadata": {},
   "outputs": [],
   "source": [
    "#Get a new viewer instance with required settings\n",
    "def newViewer():\n",
    "    lv = lavavu.Viewer(resolution=(200,200))\n",
    "    lv.test()\n",
    "    return lv"
   ]
  },
  {
   "cell_type": "markdown",
   "metadata": {},
   "source": [
    "**Iterate**\n",
    "\n",
    "Test the image creation and compositing API"
   ]
  },
  {
   "cell_type": "code",
   "execution_count": null,
   "metadata": {
    "scrolled": false
   },
   "outputs": [],
   "source": [
    "lv = newViewer()\n",
    "lv.image(\"default.png\", resolution=(500,500))\n",
    "for i in range(50):\n",
    "    background = lavavu.Image((1200, 900), value=155, channels=4)\n",
    "    log.log()\n",
    "\n",
    "    #Paste from buffer\n",
    "    background.paste(lv, resolution=(800, 500), position=(1, 1))\n",
    "\n",
    "    #Paste from image\n",
    "    array = lv.loadimage(\"default.png\")\n",
    "    \n",
    "    background.paste(array, position=(100, 100))\n",
    "    \n",
    "    background.blend(array, position=(10, 50))\n",
    "    \n",
    "    #background.display()"
   ]
  },
  {
   "cell_type": "code",
   "execution_count": null,
   "metadata": {},
   "outputs": [],
   "source": [
    "#%matplotlib inline\n",
    "#log.plot()"
   ]
  },
  {
   "cell_type": "markdown",
   "metadata": {},
   "source": [
    "### Test: attempt to detect a memory leak from log\n",
    "\n",
    "- Need to check the gradient is mostly flat,\n",
    "- Jumps are ok but should not increase every step\n",
    "- Tracks median gradient over 5 steps"
   ]
  },
  {
   "cell_type": "code",
   "execution_count": null,
   "metadata": {
    "scrolled": false
   },
   "outputs": [],
   "source": [
    "log.leaktest()"
   ]
  },
  {
   "cell_type": "code",
   "execution_count": null,
   "metadata": {},
   "outputs": [],
   "source": []
  }
 ],
 "metadata": {
  "kernelspec": {
   "display_name": "Python 3",
   "language": "python",
   "name": "python3"
  },
  "language_info": {
   "codemirror_mode": {
    "name": "ipython",
    "version": 3
   },
   "file_extension": ".py",
   "mimetype": "text/x-python",
   "name": "python",
   "nbconvert_exporter": "python",
   "pygments_lexer": "ipython3",
   "version": "3.6.6"
  }
 },
 "nbformat": 4,
 "nbformat_minor": 2
}
